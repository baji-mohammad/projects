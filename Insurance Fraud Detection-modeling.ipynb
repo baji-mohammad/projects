{
 "cells": [
  {
   "cell_type": "markdown",
   "metadata": {},
   "source": [
    "# Auto Insurance Fraud Detection\n",
    "\n",
    "## Data preparation and Modeling \n",
    "Here we will prepare the data for the machine learning algorithms and asses the performance of multiple ML models\n",
    "\n",
    "### Approach \n",
    "1. Check for missing values and non-informative features\n",
    "2. Encoding of categorical values\n",
    "3. Split data into training and hold out testing\n",
    "4. Try out many models \n",
    "    * Hyperparameter tuning using grid-search\n",
    "    * Evaluation on hold-out testing data\n",
    "    * Performance analysis based on model evaluation metrics\n",
    "5. Select the best model \n",
    "\n",
    "The final model can then be deployed to flag a given insurance claim as fraudulent or legitimate\n"
   ]
  },
  {
   "cell_type": "markdown",
   "metadata": {},
   "source": [
    "### Importing all the necessary packages"
   ]
  },
  {
   "cell_type": "code",
   "execution_count": 1,
   "metadata": {},
   "outputs": [],
   "source": [
    "import pandas as pd\n",
    "import numpy as np\n",
    "import itertools\n",
    "from matplotlib import pyplot as plt\n",
    "\n",
    "from sklearn.preprocessing import LabelEncoder, OneHotEncoder, StandardScaler\n",
    "from sklearn.model_selection import train_test_split, GridSearchCV, cross_val_score\n",
    "#from sklearn.metrics import confusion_matrix, roc_curve, roc_auc_score, precision_score, recall_score, f1_score, precision_recall_curve\n",
    "\n",
    "\n",
    "from sklearn.pipeline import Pipeline\n",
    "from sklearn.compose import ColumnTransformer\n",
    "\n",
    "from sklearn.linear_model import LogisticRegression\n",
    "from sklearn.tree import DecisionTreeClassifier\n",
    "from sklearn.ensemble import RandomForestClassifier\n",
    "from sklearn.discriminant_analysis import LinearDiscriminantAnalysis\n",
    "\n",
    "\n",
    "\n",
    "import sklearn.metrics\n",
    "from pylab import rcParams\n",
    "plt.style.use('seaborn')\n",
    "%matplotlib inline\n",
    "\n",
    "# Turning-off the warnings\n",
    "def warn(*args, **kwargs):\n",
    "    pass\n",
    "import warnings\n",
    "warnings.warn = warn"
   ]
  },
  {
   "cell_type": "code",
   "execution_count": 2,
   "metadata": {
    "scrolled": false
   },
   "outputs": [
    {
     "data": {
      "text/html": [
       "<div>\n",
       "<style scoped>\n",
       "    .dataframe tbody tr th:only-of-type {\n",
       "        vertical-align: middle;\n",
       "    }\n",
       "\n",
       "    .dataframe tbody tr th {\n",
       "        vertical-align: top;\n",
       "    }\n",
       "\n",
       "    .dataframe thead th {\n",
       "        text-align: right;\n",
       "    }\n",
       "</style>\n",
       "<table border=\"1\" class=\"dataframe\">\n",
       "  <thead>\n",
       "    <tr style=\"text-align: right;\">\n",
       "      <th></th>\n",
       "      <th>months_as_customer</th>\n",
       "      <th>age</th>\n",
       "      <th>policy_number</th>\n",
       "      <th>policy_bind_date</th>\n",
       "      <th>policy_state</th>\n",
       "      <th>policy_csl</th>\n",
       "      <th>policy_deductable</th>\n",
       "      <th>policy_annual_premium</th>\n",
       "      <th>umbrella_limit</th>\n",
       "      <th>insured_zip</th>\n",
       "      <th>...</th>\n",
       "      <th>police_report_available</th>\n",
       "      <th>total_claim_amount</th>\n",
       "      <th>injury_claim</th>\n",
       "      <th>property_claim</th>\n",
       "      <th>vehicle_claim</th>\n",
       "      <th>auto_make</th>\n",
       "      <th>auto_model</th>\n",
       "      <th>auto_year</th>\n",
       "      <th>fraud_reported</th>\n",
       "      <th>_c39</th>\n",
       "    </tr>\n",
       "  </thead>\n",
       "  <tbody>\n",
       "    <tr>\n",
       "      <th>0</th>\n",
       "      <td>328</td>\n",
       "      <td>48</td>\n",
       "      <td>521585</td>\n",
       "      <td>2014-10-17</td>\n",
       "      <td>OH</td>\n",
       "      <td>250/500</td>\n",
       "      <td>1000</td>\n",
       "      <td>1406.91</td>\n",
       "      <td>0</td>\n",
       "      <td>466132</td>\n",
       "      <td>...</td>\n",
       "      <td>YES</td>\n",
       "      <td>71610</td>\n",
       "      <td>6510</td>\n",
       "      <td>13020</td>\n",
       "      <td>52080</td>\n",
       "      <td>Saab</td>\n",
       "      <td>92x</td>\n",
       "      <td>2004</td>\n",
       "      <td>Y</td>\n",
       "      <td>NaN</td>\n",
       "    </tr>\n",
       "    <tr>\n",
       "      <th>1</th>\n",
       "      <td>228</td>\n",
       "      <td>42</td>\n",
       "      <td>342868</td>\n",
       "      <td>2006-06-27</td>\n",
       "      <td>IN</td>\n",
       "      <td>250/500</td>\n",
       "      <td>2000</td>\n",
       "      <td>1197.22</td>\n",
       "      <td>5000000</td>\n",
       "      <td>468176</td>\n",
       "      <td>...</td>\n",
       "      <td>?</td>\n",
       "      <td>5070</td>\n",
       "      <td>780</td>\n",
       "      <td>780</td>\n",
       "      <td>3510</td>\n",
       "      <td>Mercedes</td>\n",
       "      <td>E400</td>\n",
       "      <td>2007</td>\n",
       "      <td>Y</td>\n",
       "      <td>NaN</td>\n",
       "    </tr>\n",
       "    <tr>\n",
       "      <th>2</th>\n",
       "      <td>134</td>\n",
       "      <td>29</td>\n",
       "      <td>687698</td>\n",
       "      <td>2000-09-06</td>\n",
       "      <td>OH</td>\n",
       "      <td>100/300</td>\n",
       "      <td>2000</td>\n",
       "      <td>1413.14</td>\n",
       "      <td>5000000</td>\n",
       "      <td>430632</td>\n",
       "      <td>...</td>\n",
       "      <td>NO</td>\n",
       "      <td>34650</td>\n",
       "      <td>7700</td>\n",
       "      <td>3850</td>\n",
       "      <td>23100</td>\n",
       "      <td>Dodge</td>\n",
       "      <td>RAM</td>\n",
       "      <td>2007</td>\n",
       "      <td>N</td>\n",
       "      <td>NaN</td>\n",
       "    </tr>\n",
       "    <tr>\n",
       "      <th>3</th>\n",
       "      <td>256</td>\n",
       "      <td>41</td>\n",
       "      <td>227811</td>\n",
       "      <td>1990-05-25</td>\n",
       "      <td>IL</td>\n",
       "      <td>250/500</td>\n",
       "      <td>2000</td>\n",
       "      <td>1415.74</td>\n",
       "      <td>6000000</td>\n",
       "      <td>608117</td>\n",
       "      <td>...</td>\n",
       "      <td>NO</td>\n",
       "      <td>63400</td>\n",
       "      <td>6340</td>\n",
       "      <td>6340</td>\n",
       "      <td>50720</td>\n",
       "      <td>Chevrolet</td>\n",
       "      <td>Tahoe</td>\n",
       "      <td>2014</td>\n",
       "      <td>Y</td>\n",
       "      <td>NaN</td>\n",
       "    </tr>\n",
       "    <tr>\n",
       "      <th>4</th>\n",
       "      <td>228</td>\n",
       "      <td>44</td>\n",
       "      <td>367455</td>\n",
       "      <td>2014-06-06</td>\n",
       "      <td>IL</td>\n",
       "      <td>500/1000</td>\n",
       "      <td>1000</td>\n",
       "      <td>1583.91</td>\n",
       "      <td>6000000</td>\n",
       "      <td>610706</td>\n",
       "      <td>...</td>\n",
       "      <td>NO</td>\n",
       "      <td>6500</td>\n",
       "      <td>1300</td>\n",
       "      <td>650</td>\n",
       "      <td>4550</td>\n",
       "      <td>Accura</td>\n",
       "      <td>RSX</td>\n",
       "      <td>2009</td>\n",
       "      <td>N</td>\n",
       "      <td>NaN</td>\n",
       "    </tr>\n",
       "    <tr>\n",
       "      <th>5</th>\n",
       "      <td>256</td>\n",
       "      <td>39</td>\n",
       "      <td>104594</td>\n",
       "      <td>2006-10-12</td>\n",
       "      <td>OH</td>\n",
       "      <td>250/500</td>\n",
       "      <td>1000</td>\n",
       "      <td>1351.10</td>\n",
       "      <td>0</td>\n",
       "      <td>478456</td>\n",
       "      <td>...</td>\n",
       "      <td>NO</td>\n",
       "      <td>64100</td>\n",
       "      <td>6410</td>\n",
       "      <td>6410</td>\n",
       "      <td>51280</td>\n",
       "      <td>Saab</td>\n",
       "      <td>95</td>\n",
       "      <td>2003</td>\n",
       "      <td>Y</td>\n",
       "      <td>NaN</td>\n",
       "    </tr>\n",
       "    <tr>\n",
       "      <th>6</th>\n",
       "      <td>137</td>\n",
       "      <td>34</td>\n",
       "      <td>413978</td>\n",
       "      <td>2000-06-04</td>\n",
       "      <td>IN</td>\n",
       "      <td>250/500</td>\n",
       "      <td>1000</td>\n",
       "      <td>1333.35</td>\n",
       "      <td>0</td>\n",
       "      <td>441716</td>\n",
       "      <td>...</td>\n",
       "      <td>?</td>\n",
       "      <td>78650</td>\n",
       "      <td>21450</td>\n",
       "      <td>7150</td>\n",
       "      <td>50050</td>\n",
       "      <td>Nissan</td>\n",
       "      <td>Pathfinder</td>\n",
       "      <td>2012</td>\n",
       "      <td>N</td>\n",
       "      <td>NaN</td>\n",
       "    </tr>\n",
       "    <tr>\n",
       "      <th>7</th>\n",
       "      <td>165</td>\n",
       "      <td>37</td>\n",
       "      <td>429027</td>\n",
       "      <td>1990-02-03</td>\n",
       "      <td>IL</td>\n",
       "      <td>100/300</td>\n",
       "      <td>1000</td>\n",
       "      <td>1137.03</td>\n",
       "      <td>0</td>\n",
       "      <td>603195</td>\n",
       "      <td>...</td>\n",
       "      <td>YES</td>\n",
       "      <td>51590</td>\n",
       "      <td>9380</td>\n",
       "      <td>9380</td>\n",
       "      <td>32830</td>\n",
       "      <td>Audi</td>\n",
       "      <td>A5</td>\n",
       "      <td>2015</td>\n",
       "      <td>N</td>\n",
       "      <td>NaN</td>\n",
       "    </tr>\n",
       "    <tr>\n",
       "      <th>8</th>\n",
       "      <td>27</td>\n",
       "      <td>33</td>\n",
       "      <td>485665</td>\n",
       "      <td>1997-02-05</td>\n",
       "      <td>IL</td>\n",
       "      <td>100/300</td>\n",
       "      <td>500</td>\n",
       "      <td>1442.99</td>\n",
       "      <td>0</td>\n",
       "      <td>601734</td>\n",
       "      <td>...</td>\n",
       "      <td>YES</td>\n",
       "      <td>27700</td>\n",
       "      <td>2770</td>\n",
       "      <td>2770</td>\n",
       "      <td>22160</td>\n",
       "      <td>Toyota</td>\n",
       "      <td>Camry</td>\n",
       "      <td>2012</td>\n",
       "      <td>N</td>\n",
       "      <td>NaN</td>\n",
       "    </tr>\n",
       "    <tr>\n",
       "      <th>9</th>\n",
       "      <td>212</td>\n",
       "      <td>42</td>\n",
       "      <td>636550</td>\n",
       "      <td>2011-07-25</td>\n",
       "      <td>IL</td>\n",
       "      <td>100/300</td>\n",
       "      <td>500</td>\n",
       "      <td>1315.68</td>\n",
       "      <td>0</td>\n",
       "      <td>600983</td>\n",
       "      <td>...</td>\n",
       "      <td>?</td>\n",
       "      <td>42300</td>\n",
       "      <td>4700</td>\n",
       "      <td>4700</td>\n",
       "      <td>32900</td>\n",
       "      <td>Saab</td>\n",
       "      <td>92x</td>\n",
       "      <td>1996</td>\n",
       "      <td>N</td>\n",
       "      <td>NaN</td>\n",
       "    </tr>\n",
       "  </tbody>\n",
       "</table>\n",
       "<p>10 rows × 40 columns</p>\n",
       "</div>"
      ],
      "text/plain": [
       "   months_as_customer  age  policy_number policy_bind_date policy_state  \\\n",
       "0                 328   48         521585       2014-10-17           OH   \n",
       "1                 228   42         342868       2006-06-27           IN   \n",
       "2                 134   29         687698       2000-09-06           OH   \n",
       "3                 256   41         227811       1990-05-25           IL   \n",
       "4                 228   44         367455       2014-06-06           IL   \n",
       "5                 256   39         104594       2006-10-12           OH   \n",
       "6                 137   34         413978       2000-06-04           IN   \n",
       "7                 165   37         429027       1990-02-03           IL   \n",
       "8                  27   33         485665       1997-02-05           IL   \n",
       "9                 212   42         636550       2011-07-25           IL   \n",
       "\n",
       "  policy_csl  policy_deductable  policy_annual_premium  umbrella_limit  \\\n",
       "0    250/500               1000                1406.91               0   \n",
       "1    250/500               2000                1197.22         5000000   \n",
       "2    100/300               2000                1413.14         5000000   \n",
       "3    250/500               2000                1415.74         6000000   \n",
       "4   500/1000               1000                1583.91         6000000   \n",
       "5    250/500               1000                1351.10               0   \n",
       "6    250/500               1000                1333.35               0   \n",
       "7    100/300               1000                1137.03               0   \n",
       "8    100/300                500                1442.99               0   \n",
       "9    100/300                500                1315.68               0   \n",
       "\n",
       "   insured_zip  ... police_report_available total_claim_amount injury_claim  \\\n",
       "0       466132  ...                     YES              71610         6510   \n",
       "1       468176  ...                       ?               5070          780   \n",
       "2       430632  ...                      NO              34650         7700   \n",
       "3       608117  ...                      NO              63400         6340   \n",
       "4       610706  ...                      NO               6500         1300   \n",
       "5       478456  ...                      NO              64100         6410   \n",
       "6       441716  ...                       ?              78650        21450   \n",
       "7       603195  ...                     YES              51590         9380   \n",
       "8       601734  ...                     YES              27700         2770   \n",
       "9       600983  ...                       ?              42300         4700   \n",
       "\n",
       "  property_claim vehicle_claim  auto_make  auto_model auto_year  \\\n",
       "0          13020         52080       Saab         92x      2004   \n",
       "1            780          3510   Mercedes        E400      2007   \n",
       "2           3850         23100      Dodge         RAM      2007   \n",
       "3           6340         50720  Chevrolet       Tahoe      2014   \n",
       "4            650          4550     Accura         RSX      2009   \n",
       "5           6410         51280       Saab          95      2003   \n",
       "6           7150         50050     Nissan  Pathfinder      2012   \n",
       "7           9380         32830       Audi          A5      2015   \n",
       "8           2770         22160     Toyota       Camry      2012   \n",
       "9           4700         32900       Saab         92x      1996   \n",
       "\n",
       "  fraud_reported _c39  \n",
       "0              Y  NaN  \n",
       "1              Y  NaN  \n",
       "2              N  NaN  \n",
       "3              Y  NaN  \n",
       "4              N  NaN  \n",
       "5              Y  NaN  \n",
       "6              N  NaN  \n",
       "7              N  NaN  \n",
       "8              N  NaN  \n",
       "9              N  NaN  \n",
       "\n",
       "[10 rows x 40 columns]"
      ]
     },
     "execution_count": 2,
     "metadata": {},
     "output_type": "execute_result"
    }
   ],
   "source": [
    "#load & view the data\n",
    "df = pd.read_csv('insurance_claims.csv')\n",
    "df.head(10)"
   ]
  },
  {
   "cell_type": "code",
   "execution_count": 3,
   "metadata": {
    "scrolled": true
   },
   "outputs": [
    {
     "data": {
      "text/plain": [
       "months_as_customer              391\n",
       "age                              46\n",
       "policy_number                  1000\n",
       "policy_bind_date                951\n",
       "policy_state                      3\n",
       "policy_csl                        3\n",
       "policy_deductable                 3\n",
       "policy_annual_premium           991\n",
       "umbrella_limit                   11\n",
       "insured_zip                     995\n",
       "insured_sex                       2\n",
       "insured_education_level           7\n",
       "insured_occupation               14\n",
       "insured_hobbies                  20\n",
       "insured_relationship              6\n",
       "capital-gains                   338\n",
       "capital-loss                    354\n",
       "incident_date                    60\n",
       "incident_type                     4\n",
       "collision_type                    4\n",
       "incident_severity                 4\n",
       "authorities_contacted             5\n",
       "incident_state                    7\n",
       "incident_city                     7\n",
       "incident_location              1000\n",
       "incident_hour_of_the_day         24\n",
       "number_of_vehicles_involved       4\n",
       "property_damage                   3\n",
       "bodily_injuries                   3\n",
       "witnesses                         4\n",
       "police_report_available           3\n",
       "total_claim_amount              763\n",
       "injury_claim                    638\n",
       "property_claim                  626\n",
       "vehicle_claim                   726\n",
       "auto_make                        14\n",
       "auto_model                       39\n",
       "auto_year                        21\n",
       "fraud_reported                    2\n",
       "_c39                              0\n",
       "dtype: int64"
      ]
     },
     "execution_count": 3,
     "metadata": {},
     "output_type": "execute_result"
    }
   ],
   "source": [
    "# unique entries. Useful to know the catagorical features\n",
    "df.nunique()"
   ]
  },
  {
   "cell_type": "markdown",
   "metadata": {},
   "source": [
    "### Data preprocessing and cleaning"
   ]
  },
  {
   "cell_type": "code",
   "execution_count": 4,
   "metadata": {},
   "outputs": [
    {
     "data": {
      "text/plain": [
       "1000"
      ]
     },
     "execution_count": 4,
     "metadata": {},
     "output_type": "execute_result"
    }
   ],
   "source": [
    "# Total number of missing values\n",
    "df.isna().sum().sum()\n"
   ]
  },
  {
   "cell_type": "code",
   "execution_count": 5,
   "metadata": {},
   "outputs": [
    {
     "data": {
      "text/plain": [
       "Index(['_c39'], dtype='object')"
      ]
     },
     "execution_count": 5,
     "metadata": {},
     "output_type": "execute_result"
    }
   ],
   "source": [
    "# column with missing values \n",
    "df.columns[df.isna().any()] \n"
   ]
  },
  {
   "cell_type": "markdown",
   "metadata": {},
   "source": [
    "all of the missing values are in the _c39 column. We will drop it later."
   ]
  },
  {
   "cell_type": "code",
   "execution_count": 6,
   "metadata": {},
   "outputs": [
    {
     "name": "stderr",
     "output_type": "stream",
     "text": [
      "C:\\ProgramData\\Anaconda3\\lib\\site-packages\\pandas\\core\\ops\\array_ops.py:253: FutureWarning: elementwise comparison failed; returning scalar instead, but in the future will perform elementwise comparison\n",
      "  res_values = method(rvalues)\n"
     ]
    },
    {
     "data": {
      "text/plain": [
       "Index(['collision_type', 'property_damage', 'police_report_available'], dtype='object')"
      ]
     },
     "execution_count": 6,
     "metadata": {},
     "output_type": "execute_result"
    }
   ],
   "source": [
    "# columns with ? entries\n",
    "df.columns[(df == '?').any()]"
   ]
  },
  {
   "cell_type": "code",
   "execution_count": 7,
   "metadata": {},
   "outputs": [
    {
     "data": {
      "text/plain": [
       "collision_type             4\n",
       "property_damage            3\n",
       "police_report_available    3\n",
       "dtype: int64"
      ]
     },
     "execution_count": 7,
     "metadata": {},
     "output_type": "execute_result"
    }
   ],
   "source": [
    "df[df.columns[(df == '?').any()]].nunique()"
   ]
  },
  {
   "cell_type": "markdown",
   "metadata": {},
   "source": [
    "property_damage and police_report_available are boolean (YES/NO) types. Hence, we will regard the missing values as NO. The collision_type can be side, rear, and front. We will just regard the ? as a separate collision type. "
   ]
  },
  {
   "cell_type": "code",
   "execution_count": 8,
   "metadata": {},
   "outputs": [],
   "source": [
    "df['property_damage'].replace(to_replace='?', value='NO', inplace=True)\n",
    "df['police_report_available'].replace(to_replace='?', value='NO', inplace=True)"
   ]
  },
  {
   "cell_type": "code",
   "execution_count": 9,
   "metadata": {
    "scrolled": false
   },
   "outputs": [
    {
     "data": {
      "text/plain": [
       "0"
      ]
     },
     "execution_count": 9,
     "metadata": {},
     "output_type": "execute_result"
    }
   ],
   "source": [
    "# check if there are duplicated entries\n",
    "df.duplicated(subset=None, keep='first').sum()"
   ]
  },
  {
   "cell_type": "code",
   "execution_count": 10,
   "metadata": {
    "scrolled": true
   },
   "outputs": [
    {
     "data": {
      "text/html": [
       "<div>\n",
       "<style scoped>\n",
       "    .dataframe tbody tr th:only-of-type {\n",
       "        vertical-align: middle;\n",
       "    }\n",
       "\n",
       "    .dataframe tbody tr th {\n",
       "        vertical-align: top;\n",
       "    }\n",
       "\n",
       "    .dataframe thead th {\n",
       "        text-align: right;\n",
       "    }\n",
       "</style>\n",
       "<table border=\"1\" class=\"dataframe\">\n",
       "  <thead>\n",
       "    <tr style=\"text-align: right;\">\n",
       "      <th></th>\n",
       "      <th>months_as_customer</th>\n",
       "      <th>age</th>\n",
       "      <th>policy_state</th>\n",
       "      <th>policy_csl</th>\n",
       "      <th>policy_deductable</th>\n",
       "      <th>policy_annual_premium</th>\n",
       "      <th>umbrella_limit</th>\n",
       "      <th>insured_sex</th>\n",
       "      <th>insured_education_level</th>\n",
       "      <th>insured_occupation</th>\n",
       "      <th>...</th>\n",
       "      <th>witnesses</th>\n",
       "      <th>police_report_available</th>\n",
       "      <th>total_claim_amount</th>\n",
       "      <th>injury_claim</th>\n",
       "      <th>property_claim</th>\n",
       "      <th>vehicle_claim</th>\n",
       "      <th>auto_make</th>\n",
       "      <th>auto_model</th>\n",
       "      <th>auto_year</th>\n",
       "      <th>fraud_reported</th>\n",
       "    </tr>\n",
       "  </thead>\n",
       "  <tbody>\n",
       "    <tr>\n",
       "      <th>0</th>\n",
       "      <td>328</td>\n",
       "      <td>48</td>\n",
       "      <td>OH</td>\n",
       "      <td>250/500</td>\n",
       "      <td>1000</td>\n",
       "      <td>1406.91</td>\n",
       "      <td>0</td>\n",
       "      <td>MALE</td>\n",
       "      <td>MD</td>\n",
       "      <td>craft-repair</td>\n",
       "      <td>...</td>\n",
       "      <td>2</td>\n",
       "      <td>YES</td>\n",
       "      <td>71610</td>\n",
       "      <td>6510</td>\n",
       "      <td>13020</td>\n",
       "      <td>52080</td>\n",
       "      <td>Saab</td>\n",
       "      <td>92x</td>\n",
       "      <td>2004</td>\n",
       "      <td>Y</td>\n",
       "    </tr>\n",
       "    <tr>\n",
       "      <th>1</th>\n",
       "      <td>228</td>\n",
       "      <td>42</td>\n",
       "      <td>IN</td>\n",
       "      <td>250/500</td>\n",
       "      <td>2000</td>\n",
       "      <td>1197.22</td>\n",
       "      <td>5000000</td>\n",
       "      <td>MALE</td>\n",
       "      <td>MD</td>\n",
       "      <td>machine-op-inspct</td>\n",
       "      <td>...</td>\n",
       "      <td>0</td>\n",
       "      <td>NO</td>\n",
       "      <td>5070</td>\n",
       "      <td>780</td>\n",
       "      <td>780</td>\n",
       "      <td>3510</td>\n",
       "      <td>Mercedes</td>\n",
       "      <td>E400</td>\n",
       "      <td>2007</td>\n",
       "      <td>Y</td>\n",
       "    </tr>\n",
       "    <tr>\n",
       "      <th>2</th>\n",
       "      <td>134</td>\n",
       "      <td>29</td>\n",
       "      <td>OH</td>\n",
       "      <td>100/300</td>\n",
       "      <td>2000</td>\n",
       "      <td>1413.14</td>\n",
       "      <td>5000000</td>\n",
       "      <td>FEMALE</td>\n",
       "      <td>PhD</td>\n",
       "      <td>sales</td>\n",
       "      <td>...</td>\n",
       "      <td>3</td>\n",
       "      <td>NO</td>\n",
       "      <td>34650</td>\n",
       "      <td>7700</td>\n",
       "      <td>3850</td>\n",
       "      <td>23100</td>\n",
       "      <td>Dodge</td>\n",
       "      <td>RAM</td>\n",
       "      <td>2007</td>\n",
       "      <td>N</td>\n",
       "    </tr>\n",
       "    <tr>\n",
       "      <th>3</th>\n",
       "      <td>256</td>\n",
       "      <td>41</td>\n",
       "      <td>IL</td>\n",
       "      <td>250/500</td>\n",
       "      <td>2000</td>\n",
       "      <td>1415.74</td>\n",
       "      <td>6000000</td>\n",
       "      <td>FEMALE</td>\n",
       "      <td>PhD</td>\n",
       "      <td>armed-forces</td>\n",
       "      <td>...</td>\n",
       "      <td>2</td>\n",
       "      <td>NO</td>\n",
       "      <td>63400</td>\n",
       "      <td>6340</td>\n",
       "      <td>6340</td>\n",
       "      <td>50720</td>\n",
       "      <td>Chevrolet</td>\n",
       "      <td>Tahoe</td>\n",
       "      <td>2014</td>\n",
       "      <td>Y</td>\n",
       "    </tr>\n",
       "    <tr>\n",
       "      <th>4</th>\n",
       "      <td>228</td>\n",
       "      <td>44</td>\n",
       "      <td>IL</td>\n",
       "      <td>500/1000</td>\n",
       "      <td>1000</td>\n",
       "      <td>1583.91</td>\n",
       "      <td>6000000</td>\n",
       "      <td>MALE</td>\n",
       "      <td>Associate</td>\n",
       "      <td>sales</td>\n",
       "      <td>...</td>\n",
       "      <td>1</td>\n",
       "      <td>NO</td>\n",
       "      <td>6500</td>\n",
       "      <td>1300</td>\n",
       "      <td>650</td>\n",
       "      <td>4550</td>\n",
       "      <td>Accura</td>\n",
       "      <td>RSX</td>\n",
       "      <td>2009</td>\n",
       "      <td>N</td>\n",
       "    </tr>\n",
       "  </tbody>\n",
       "</table>\n",
       "<p>5 rows × 34 columns</p>\n",
       "</div>"
      ],
      "text/plain": [
       "   months_as_customer  age policy_state policy_csl  policy_deductable  \\\n",
       "0                 328   48           OH    250/500               1000   \n",
       "1                 228   42           IN    250/500               2000   \n",
       "2                 134   29           OH    100/300               2000   \n",
       "3                 256   41           IL    250/500               2000   \n",
       "4                 228   44           IL   500/1000               1000   \n",
       "\n",
       "   policy_annual_premium  umbrella_limit insured_sex insured_education_level  \\\n",
       "0                1406.91               0        MALE                      MD   \n",
       "1                1197.22         5000000        MALE                      MD   \n",
       "2                1413.14         5000000      FEMALE                     PhD   \n",
       "3                1415.74         6000000      FEMALE                     PhD   \n",
       "4                1583.91         6000000        MALE               Associate   \n",
       "\n",
       "  insured_occupation  ... witnesses police_report_available  \\\n",
       "0       craft-repair  ...         2                     YES   \n",
       "1  machine-op-inspct  ...         0                      NO   \n",
       "2              sales  ...         3                      NO   \n",
       "3       armed-forces  ...         2                      NO   \n",
       "4              sales  ...         1                      NO   \n",
       "\n",
       "   total_claim_amount  injury_claim property_claim vehicle_claim  auto_make  \\\n",
       "0               71610          6510          13020         52080       Saab   \n",
       "1                5070           780            780          3510   Mercedes   \n",
       "2               34650          7700           3850         23100      Dodge   \n",
       "3               63400          6340           6340         50720  Chevrolet   \n",
       "4                6500          1300            650          4550     Accura   \n",
       "\n",
       "  auto_model auto_year fraud_reported  \n",
       "0        92x      2004              Y  \n",
       "1       E400      2007              Y  \n",
       "2        RAM      2007              N  \n",
       "3      Tahoe      2014              Y  \n",
       "4        RSX      2009              N  \n",
       "\n",
       "[5 rows x 34 columns]"
      ]
     },
     "execution_count": 10,
     "metadata": {},
     "output_type": "execute_result"
    }
   ],
   "source": [
    "# dropping uninformative features\n",
    "colsToDelete = [\"policy_number\", \"policy_bind_date\", \"insured_zip\", \"incident_location\", \"incident_date\", \"_c39\"]\n",
    "df = df.drop(columns = colsToDelete, axis=1)\n",
    "df.head()"
   ]
  },
  {
   "cell_type": "markdown",
   "metadata": {},
   "source": [
    "### Identify and remove highly correlated features \n"
   ]
  },
  {
   "cell_type": "code",
   "execution_count": 11,
   "metadata": {},
   "outputs": [
    {
     "name": "stdout",
     "output_type": "stream",
     "text": [
      "Columns to drop with correlation > 0.97: ['vehicle_claim']\n"
     ]
    }
   ],
   "source": [
    "threshold = 0.97\n",
    "# calculate correlations\n",
    "corr_matrix = df.corr().abs()\n",
    "# get the upper part of correlation matrix\n",
    "upper = corr_matrix.where(np.triu(np.ones(corr_matrix.shape), k=1).astype(np.bool))\n",
    "\n",
    "# columns with correlation above threshold\n",
    "redundent = [column for column in upper.columns if any(upper[column] >= threshold)]\n",
    "print(f'Columns to drop with correlation > {threshold}: {redundent}')\n",
    "df.drop(columns=redundent, inplace=True)"
   ]
  },
  {
   "cell_type": "markdown",
   "metadata": {},
   "source": [
    "### Now let's find the catagorical features \n",
    "#### They should be one-hot-encode  Now let's find the catagorical features and one-hot-encode them"
   ]
  },
  {
   "cell_type": "code",
   "execution_count": 12,
   "metadata": {},
   "outputs": [],
   "source": [
    "num_features = df._get_numeric_data().columns\n",
    "cat_features = list(set(df.columns) - set(num_features))\n",
    "cat_features.remove('fraud_reported')"
   ]
  },
  {
   "cell_type": "code",
   "execution_count": 13,
   "metadata": {},
   "outputs": [
    {
     "data": {
      "text/plain": [
       "['authorities_contacted',\n",
       " 'insured_education_level',\n",
       " 'property_damage',\n",
       " 'insured_hobbies',\n",
       " 'policy_csl',\n",
       " 'police_report_available',\n",
       " 'insured_relationship',\n",
       " 'incident_type',\n",
       " 'auto_model',\n",
       " 'auto_make',\n",
       " 'incident_severity',\n",
       " 'collision_type',\n",
       " 'incident_city',\n",
       " 'incident_state',\n",
       " 'policy_state',\n",
       " 'insured_sex',\n",
       " 'insured_occupation']"
      ]
     },
     "execution_count": 13,
     "metadata": {},
     "output_type": "execute_result"
    }
   ],
   "source": [
    "cat_features"
   ]
  },
  {
   "cell_type": "code",
   "execution_count": 14,
   "metadata": {
    "scrolled": true
   },
   "outputs": [
    {
     "data": {
      "text/html": [
       "<div>\n",
       "<style scoped>\n",
       "    .dataframe tbody tr th:only-of-type {\n",
       "        vertical-align: middle;\n",
       "    }\n",
       "\n",
       "    .dataframe tbody tr th {\n",
       "        vertical-align: top;\n",
       "    }\n",
       "\n",
       "    .dataframe thead th {\n",
       "        text-align: right;\n",
       "    }\n",
       "</style>\n",
       "<table border=\"1\" class=\"dataframe\">\n",
       "  <thead>\n",
       "    <tr style=\"text-align: right;\">\n",
       "      <th></th>\n",
       "      <th>months_as_customer</th>\n",
       "      <th>age</th>\n",
       "      <th>policy_deductable</th>\n",
       "      <th>policy_annual_premium</th>\n",
       "      <th>umbrella_limit</th>\n",
       "      <th>capital-gains</th>\n",
       "      <th>capital-loss</th>\n",
       "      <th>incident_hour_of_the_day</th>\n",
       "      <th>number_of_vehicles_involved</th>\n",
       "      <th>bodily_injuries</th>\n",
       "      <th>witnesses</th>\n",
       "      <th>total_claim_amount</th>\n",
       "      <th>injury_claim</th>\n",
       "      <th>property_claim</th>\n",
       "      <th>auto_year</th>\n",
       "    </tr>\n",
       "  </thead>\n",
       "  <tbody>\n",
       "    <tr>\n",
       "      <th>0</th>\n",
       "      <td>328</td>\n",
       "      <td>48</td>\n",
       "      <td>1000</td>\n",
       "      <td>1406.91</td>\n",
       "      <td>0</td>\n",
       "      <td>53300</td>\n",
       "      <td>0</td>\n",
       "      <td>5</td>\n",
       "      <td>1</td>\n",
       "      <td>1</td>\n",
       "      <td>2</td>\n",
       "      <td>71610</td>\n",
       "      <td>6510</td>\n",
       "      <td>13020</td>\n",
       "      <td>2004</td>\n",
       "    </tr>\n",
       "    <tr>\n",
       "      <th>1</th>\n",
       "      <td>228</td>\n",
       "      <td>42</td>\n",
       "      <td>2000</td>\n",
       "      <td>1197.22</td>\n",
       "      <td>5000000</td>\n",
       "      <td>0</td>\n",
       "      <td>0</td>\n",
       "      <td>8</td>\n",
       "      <td>1</td>\n",
       "      <td>0</td>\n",
       "      <td>0</td>\n",
       "      <td>5070</td>\n",
       "      <td>780</td>\n",
       "      <td>780</td>\n",
       "      <td>2007</td>\n",
       "    </tr>\n",
       "    <tr>\n",
       "      <th>2</th>\n",
       "      <td>134</td>\n",
       "      <td>29</td>\n",
       "      <td>2000</td>\n",
       "      <td>1413.14</td>\n",
       "      <td>5000000</td>\n",
       "      <td>35100</td>\n",
       "      <td>0</td>\n",
       "      <td>7</td>\n",
       "      <td>3</td>\n",
       "      <td>2</td>\n",
       "      <td>3</td>\n",
       "      <td>34650</td>\n",
       "      <td>7700</td>\n",
       "      <td>3850</td>\n",
       "      <td>2007</td>\n",
       "    </tr>\n",
       "    <tr>\n",
       "      <th>3</th>\n",
       "      <td>256</td>\n",
       "      <td>41</td>\n",
       "      <td>2000</td>\n",
       "      <td>1415.74</td>\n",
       "      <td>6000000</td>\n",
       "      <td>48900</td>\n",
       "      <td>-62400</td>\n",
       "      <td>5</td>\n",
       "      <td>1</td>\n",
       "      <td>1</td>\n",
       "      <td>2</td>\n",
       "      <td>63400</td>\n",
       "      <td>6340</td>\n",
       "      <td>6340</td>\n",
       "      <td>2014</td>\n",
       "    </tr>\n",
       "    <tr>\n",
       "      <th>4</th>\n",
       "      <td>228</td>\n",
       "      <td>44</td>\n",
       "      <td>1000</td>\n",
       "      <td>1583.91</td>\n",
       "      <td>6000000</td>\n",
       "      <td>66000</td>\n",
       "      <td>-46000</td>\n",
       "      <td>20</td>\n",
       "      <td>1</td>\n",
       "      <td>0</td>\n",
       "      <td>1</td>\n",
       "      <td>6500</td>\n",
       "      <td>1300</td>\n",
       "      <td>650</td>\n",
       "      <td>2009</td>\n",
       "    </tr>\n",
       "  </tbody>\n",
       "</table>\n",
       "</div>"
      ],
      "text/plain": [
       "   months_as_customer  age  policy_deductable  policy_annual_premium  \\\n",
       "0                 328   48               1000                1406.91   \n",
       "1                 228   42               2000                1197.22   \n",
       "2                 134   29               2000                1413.14   \n",
       "3                 256   41               2000                1415.74   \n",
       "4                 228   44               1000                1583.91   \n",
       "\n",
       "   umbrella_limit  capital-gains  capital-loss  incident_hour_of_the_day  \\\n",
       "0               0          53300             0                         5   \n",
       "1         5000000              0             0                         8   \n",
       "2         5000000          35100             0                         7   \n",
       "3         6000000          48900        -62400                         5   \n",
       "4         6000000          66000        -46000                        20   \n",
       "\n",
       "   number_of_vehicles_involved  bodily_injuries  witnesses  \\\n",
       "0                            1                1          2   \n",
       "1                            1                0          0   \n",
       "2                            3                2          3   \n",
       "3                            1                1          2   \n",
       "4                            1                0          1   \n",
       "\n",
       "   total_claim_amount  injury_claim  property_claim  auto_year  \n",
       "0               71610          6510           13020       2004  \n",
       "1                5070           780             780       2007  \n",
       "2               34650          7700            3850       2007  \n",
       "3               63400          6340            6340       2014  \n",
       "4                6500          1300             650       2009  "
      ]
     },
     "execution_count": 14,
     "metadata": {},
     "output_type": "execute_result"
    }
   ],
   "source": [
    "df[num_features].head()"
   ]
  },
  {
   "cell_type": "code",
   "execution_count": 15,
   "metadata": {
    "scrolled": true
   },
   "outputs": [
    {
     "data": {
      "text/html": [
       "<div>\n",
       "<style scoped>\n",
       "    .dataframe tbody tr th:only-of-type {\n",
       "        vertical-align: middle;\n",
       "    }\n",
       "\n",
       "    .dataframe tbody tr th {\n",
       "        vertical-align: top;\n",
       "    }\n",
       "\n",
       "    .dataframe thead th {\n",
       "        text-align: right;\n",
       "    }\n",
       "</style>\n",
       "<table border=\"1\" class=\"dataframe\">\n",
       "  <thead>\n",
       "    <tr style=\"text-align: right;\">\n",
       "      <th></th>\n",
       "      <th>authorities_contacted</th>\n",
       "      <th>insured_education_level</th>\n",
       "      <th>property_damage</th>\n",
       "      <th>insured_hobbies</th>\n",
       "      <th>policy_csl</th>\n",
       "      <th>police_report_available</th>\n",
       "      <th>insured_relationship</th>\n",
       "      <th>incident_type</th>\n",
       "      <th>auto_model</th>\n",
       "      <th>auto_make</th>\n",
       "      <th>incident_severity</th>\n",
       "      <th>collision_type</th>\n",
       "      <th>incident_city</th>\n",
       "      <th>incident_state</th>\n",
       "      <th>policy_state</th>\n",
       "      <th>insured_sex</th>\n",
       "      <th>insured_occupation</th>\n",
       "    </tr>\n",
       "  </thead>\n",
       "  <tbody>\n",
       "    <tr>\n",
       "      <th>0</th>\n",
       "      <td>Police</td>\n",
       "      <td>MD</td>\n",
       "      <td>YES</td>\n",
       "      <td>sleeping</td>\n",
       "      <td>250/500</td>\n",
       "      <td>YES</td>\n",
       "      <td>husband</td>\n",
       "      <td>Single Vehicle Collision</td>\n",
       "      <td>92x</td>\n",
       "      <td>Saab</td>\n",
       "      <td>Major Damage</td>\n",
       "      <td>Side Collision</td>\n",
       "      <td>Columbus</td>\n",
       "      <td>SC</td>\n",
       "      <td>OH</td>\n",
       "      <td>MALE</td>\n",
       "      <td>craft-repair</td>\n",
       "    </tr>\n",
       "    <tr>\n",
       "      <th>1</th>\n",
       "      <td>Police</td>\n",
       "      <td>MD</td>\n",
       "      <td>NO</td>\n",
       "      <td>reading</td>\n",
       "      <td>250/500</td>\n",
       "      <td>NO</td>\n",
       "      <td>other-relative</td>\n",
       "      <td>Vehicle Theft</td>\n",
       "      <td>E400</td>\n",
       "      <td>Mercedes</td>\n",
       "      <td>Minor Damage</td>\n",
       "      <td>?</td>\n",
       "      <td>Riverwood</td>\n",
       "      <td>VA</td>\n",
       "      <td>IN</td>\n",
       "      <td>MALE</td>\n",
       "      <td>machine-op-inspct</td>\n",
       "    </tr>\n",
       "    <tr>\n",
       "      <th>2</th>\n",
       "      <td>Police</td>\n",
       "      <td>PhD</td>\n",
       "      <td>NO</td>\n",
       "      <td>board-games</td>\n",
       "      <td>100/300</td>\n",
       "      <td>NO</td>\n",
       "      <td>own-child</td>\n",
       "      <td>Multi-vehicle Collision</td>\n",
       "      <td>RAM</td>\n",
       "      <td>Dodge</td>\n",
       "      <td>Minor Damage</td>\n",
       "      <td>Rear Collision</td>\n",
       "      <td>Columbus</td>\n",
       "      <td>NY</td>\n",
       "      <td>OH</td>\n",
       "      <td>FEMALE</td>\n",
       "      <td>sales</td>\n",
       "    </tr>\n",
       "    <tr>\n",
       "      <th>3</th>\n",
       "      <td>Police</td>\n",
       "      <td>PhD</td>\n",
       "      <td>NO</td>\n",
       "      <td>board-games</td>\n",
       "      <td>250/500</td>\n",
       "      <td>NO</td>\n",
       "      <td>unmarried</td>\n",
       "      <td>Single Vehicle Collision</td>\n",
       "      <td>Tahoe</td>\n",
       "      <td>Chevrolet</td>\n",
       "      <td>Major Damage</td>\n",
       "      <td>Front Collision</td>\n",
       "      <td>Arlington</td>\n",
       "      <td>OH</td>\n",
       "      <td>IL</td>\n",
       "      <td>FEMALE</td>\n",
       "      <td>armed-forces</td>\n",
       "    </tr>\n",
       "    <tr>\n",
       "      <th>4</th>\n",
       "      <td>None</td>\n",
       "      <td>Associate</td>\n",
       "      <td>NO</td>\n",
       "      <td>board-games</td>\n",
       "      <td>500/1000</td>\n",
       "      <td>NO</td>\n",
       "      <td>unmarried</td>\n",
       "      <td>Vehicle Theft</td>\n",
       "      <td>RSX</td>\n",
       "      <td>Accura</td>\n",
       "      <td>Minor Damage</td>\n",
       "      <td>?</td>\n",
       "      <td>Arlington</td>\n",
       "      <td>NY</td>\n",
       "      <td>IL</td>\n",
       "      <td>MALE</td>\n",
       "      <td>sales</td>\n",
       "    </tr>\n",
       "  </tbody>\n",
       "</table>\n",
       "</div>"
      ],
      "text/plain": [
       "  authorities_contacted insured_education_level property_damage  \\\n",
       "0                Police                      MD             YES   \n",
       "1                Police                      MD              NO   \n",
       "2                Police                     PhD              NO   \n",
       "3                Police                     PhD              NO   \n",
       "4                  None               Associate              NO   \n",
       "\n",
       "  insured_hobbies policy_csl police_report_available insured_relationship  \\\n",
       "0        sleeping    250/500                     YES              husband   \n",
       "1         reading    250/500                      NO       other-relative   \n",
       "2     board-games    100/300                      NO            own-child   \n",
       "3     board-games    250/500                      NO            unmarried   \n",
       "4     board-games   500/1000                      NO            unmarried   \n",
       "\n",
       "              incident_type auto_model  auto_make incident_severity  \\\n",
       "0  Single Vehicle Collision        92x       Saab      Major Damage   \n",
       "1             Vehicle Theft       E400   Mercedes      Minor Damage   \n",
       "2   Multi-vehicle Collision        RAM      Dodge      Minor Damage   \n",
       "3  Single Vehicle Collision      Tahoe  Chevrolet      Major Damage   \n",
       "4             Vehicle Theft        RSX     Accura      Minor Damage   \n",
       "\n",
       "    collision_type incident_city incident_state policy_state insured_sex  \\\n",
       "0   Side Collision      Columbus             SC           OH        MALE   \n",
       "1                ?     Riverwood             VA           IN        MALE   \n",
       "2   Rear Collision      Columbus             NY           OH      FEMALE   \n",
       "3  Front Collision     Arlington             OH           IL      FEMALE   \n",
       "4                ?     Arlington             NY           IL        MALE   \n",
       "\n",
       "  insured_occupation  \n",
       "0       craft-repair  \n",
       "1  machine-op-inspct  \n",
       "2              sales  \n",
       "3       armed-forces  \n",
       "4              sales  "
      ]
     },
     "execution_count": 15,
     "metadata": {},
     "output_type": "execute_result"
    }
   ],
   "source": [
    "df[cat_features].head()"
   ]
  },
  {
   "cell_type": "markdown",
   "metadata": {},
   "source": [
    "### Separate the target column from the features"
   ]
  },
  {
   "cell_type": "code",
   "execution_count": 16,
   "metadata": {},
   "outputs": [],
   "source": [
    "# separate the target column from the features\n",
    "y = df[\"fraud_reported\"].map({\"N\":0, \"Y\":1})\n",
    "X = df.drop(\"fraud_reported\", axis=1)"
   ]
  },
  {
   "cell_type": "markdown",
   "metadata": {},
   "source": [
    "### Set up a preprocessing pipeline to one-hot-encode catagorical features and let the numerical features passthrough as they are "
   ]
  },
  {
   "cell_type": "code",
   "execution_count": 17,
   "metadata": {},
   "outputs": [],
   "source": [
    "preprocessor = ColumnTransformer([(\"numerical\", \"passthrough\", num_features), \n",
    "                                  (\"categorical\", OneHotEncoder(sparse=False, handle_unknown=\"ignore\"),\n",
    "                                   cat_features)])"
   ]
  },
  {
   "cell_type": "markdown",
   "metadata": {},
   "source": [
    "### Define the ML models "
   ]
  },
  {
   "cell_type": "code",
   "execution_count": 18,
   "metadata": {},
   "outputs": [],
   "source": [
    "# Logistic Regression\n",
    "lr_model = Pipeline([(\"preprocessor\", preprocessor), \n",
    "                     (\"model\", LogisticRegression(class_weight=\"balanced\", solver=\"liblinear\", random_state=42))])\n",
    "\n",
    "# Decision Tree\n",
    "dt_model = Pipeline([(\"preprocessor\", preprocessor), \n",
    "                     (\"model\", DecisionTreeClassifier(class_weight=\"balanced\"))])\n",
    "# LDA\n",
    "lda_model = Pipeline([(\"preprocessor\", preprocessor), \n",
    "                     (\"model\", LinearDiscriminantAnalysis())])\n",
    "\n",
    "# Random Forest\n",
    "rf_model = Pipeline([(\"preprocessor\", preprocessor), \n",
    "                     (\"model\", RandomForestClassifier(class_weight=\"balanced\", n_estimators=100, n_jobs=-1))])\n",
    "\n"
   ]
  },
  {
   "cell_type": "markdown",
   "metadata": {},
   "source": [
    "##### Lets define a function to automate  split the data into training and test sets and compute multiple evaluation matrices and plot ROC and PVR curves. \n",
    "\n",
    "Since we have an imbalanced dataset, we can't use metrics such as Accuracy. Instead, we will be mainly using the Receiver Operating Characteristic Area Under the Curve (ROC AUC). Precision, Recall, and fl-score are also other alternatives. \n",
    "\n",
    "    * It should be noted that the choice of the metric depends on the business requirement. Hence, models can be optimized accordingly. \n",
    "\n",
    "The 5xcv cross-validation gives a better sense of the average performance of the model. "
   ]
  },
  {
   "cell_type": "markdown",
   "metadata": {},
   "source": [
    "First lets write a function to plot ROC and PVR curves "
   ]
  },
  {
   "cell_type": "code",
   "execution_count": 19,
   "metadata": {},
   "outputs": [],
   "source": [
    "# A function to plot the ROC and PVR curves \n",
    "def plot_eval(testY, predY, auc):  \n",
    "    fpr, tpr, thresh = sklearn.metrics.roc_curve(testY, predY[:,1])\n",
    "    \n",
    "    plt.plot(fpr, tpr, label='ROC curve (area = %.2f)' %auc)\n",
    "    plt.plot([0, 1], [0, 1], linestyle='--', lw=2, color='r', label='Random guess')\n",
    "    plt.title('ROC curve')\n",
    "    plt.xlabel('False Positive Rate')\n",
    "    plt.ylabel('True Positive Rate')\n",
    "    plt.grid()\n",
    "    plt.legend()\n",
    "    plt.show()\n",
    "    \n",
    "    precision_rt, recall_rt, threshold_rt = sklearn.metrics.precision_recall_curve(testY, predY[:,1])\n",
    "    plt.plot(recall_rt, precision_rt, linewidth=5, label='Precision-Recall curve')\n",
    "    plt.title('Recall vs Precision')\n",
    "    plt.xlabel('Recall')\n",
    "    plt.ylabel('Precision')\n",
    "    plt.show()"
   ]
  },
  {
   "cell_type": "code",
   "execution_count": 20,
   "metadata": {},
   "outputs": [],
   "source": [
    "def model_evaluate(model, X, y, grid_params, plot_eval_curves = False):\n",
    "    \"\"\"Prepares a training and test set and evaluates the ML model\n",
    "       on multiple metrices \n",
    "    \n",
    "    Arguments:\n",
    "    ---------\n",
    "    model:        a defined ML model\n",
    "\n",
    "    X:            the feature matix\n",
    "\n",
    "    y:            the labels \n",
    "\n",
    "    grid_params:  hyperparameters to perform grid search on (dict)\n",
    "\n",
    "    plot_eval_curves: If False, outputs metrices \n",
    "                      If True, plots ROC and precision vs. recall curves \n",
    "    \"\"\"\n",
    "    \n",
    "    X_train, X_test, y_train, y_test = train_test_split(X, y, stratify=y, test_size=.2, random_state=555)\n",
    "    \n",
    "    gs = GridSearchCV(model, grid_params, \n",
    "                  n_jobs=-1, cv=5, scoring=\"roc_auc\")\n",
    "\n",
    "    gs.fit(X_train, y_train)\n",
    "\n",
    "    model.set_params(**gs.best_params_)\n",
    "    \n",
    "    model.fit(X_train, y_train)\n",
    "    \n",
    "    # Predict probabilities and labels\n",
    "    probs = model.predict_proba(X_test)\n",
    "    preds = model.predict(X_test)\n",
    "    \n",
    "    # Calculate ROC AUC\n",
    "    auc = sklearn.metrics.roc_auc_score(y_test, probs[:, 1])\n",
    "    # get the confusion matrix\n",
    "    cnf_matrix = sklearn.metrics.confusion_matrix(y_test, preds)    \n",
    "    # Plot ROC curve\n",
    "    if plot_eval_curves:\n",
    "        plot_eval(y_test, probs, auc)\n",
    "    else: \n",
    "        print('Best Parameters:', gs.best_params_)\n",
    "        print('Best Score:', gs.best_score_)\n",
    "        print(f'ROC AUC: {round(auc, 4)}')\n",
    "        print(f'Confusion Matrix:\\n {cnf_matrix}')\n",
    "        # compute the other evaluation metrices \n",
    "        for metric in [sklearn.metrics.precision_score, sklearn.metrics.recall_score, sklearn.metrics.f1_score]:\n",
    "            print(f'{metric.__name__}: {round(metric(y_test, preds), 4)}')\n",
    "\n",
    "        # Average performance using 5 x cross-validation    \n",
    "        score = cross_val_score(model, X, y, cv=5, scoring='roc_auc')\n",
    "        print('Cross-validation AUC score: ', score.mean()) \n",
    "    return model, cnf_matrix\n",
    "\n",
    "\n"
   ]
  },
  {
   "cell_type": "code",
   "execution_count": 21,
   "metadata": {},
   "outputs": [],
   "source": [
    "# Grid-search hyper Parameters to consider\n",
    "model_grid_params = {'lr_model': {\"model__C\": [1, 1.3, 1.5]}, 'dt_model': {\"model__max_depth\": [3, 5, 7], \"model__min_samples_split\": [2, 5]}, \n",
    "              'rf_model': {\"model__max_depth\": [20, 10, 15],\"model__min_samples_split\": [5, 10]}, 'lda_model': {}, }"
   ]
  },
  {
   "cell_type": "code",
   "execution_count": 22,
   "metadata": {},
   "outputs": [],
   "source": [
    "models = [lr_model, dt_model, rf_model, lda_model]\n",
    "model_keys = [('lr_model', 'Logistic Regression'),\n",
    "              ('dt_model', 'Decision Tree'),\n",
    "              ('rf_model', 'Random Forest'),\n",
    "              ('lda_model', 'Linear Discriminant Analysis')]"
   ]
  },
  {
   "cell_type": "code",
   "execution_count": 23,
   "metadata": {},
   "outputs": [
    {
     "name": "stdout",
     "output_type": "stream",
     "text": [
      "_____________________________________________ \n",
      "Logistic Regression\n",
      "Best Parameters: {'model__C': 1}\n",
      "Best Score: 0.5939362682771774\n",
      "ROC AUC: 0.5655\n",
      "Confusion Matrix:\n",
      " [[76 75]\n",
      " [24 25]]\n",
      "precision_score: 0.25\n",
      "recall_score: 0.5102\n",
      "f1_score: 0.3356\n",
      "Cross-validation AUC score:  0.5943034247871335\n",
      "_____________________________________________ \n",
      "Decision Tree\n",
      "Best Parameters: {'model__max_depth': 3, 'model__min_samples_split': 2}\n",
      "Best Score: 0.8338993960584871\n",
      "ROC AUC: 0.8241\n",
      "Confusion Matrix:\n",
      " [[126  25]\n",
      " [  9  40]]\n",
      "precision_score: 0.6154\n",
      "recall_score: 0.8163\n",
      "f1_score: 0.7018\n",
      "Cross-validation AUC score:  0.8489145235842681\n",
      "_____________________________________________ \n",
      "Random Forest\n",
      "Best Parameters: {'model__max_depth': 20, 'model__min_samples_split': 10}\n",
      "Best Score: 0.8624010913329097\n",
      "ROC AUC: 0.8109\n",
      "Confusion Matrix:\n",
      " [[129  22]\n",
      " [ 19  30]]\n",
      "precision_score: 0.5769\n",
      "recall_score: 0.6122\n",
      "f1_score: 0.5941\n",
      "Cross-validation AUC score:  0.8393165310627563\n",
      "_____________________________________________ \n",
      "Linear Discriminant Analysis\n",
      "Best Parameters: {}\n",
      "Best Score: 0.8782599862258953\n",
      "ROC AUC: 0.8563\n",
      "Confusion Matrix:\n",
      " [[135  16]\n",
      " [ 13  36]]\n",
      "precision_score: 0.6923\n",
      "recall_score: 0.7347\n",
      "f1_score: 0.7129\n",
      "Cross-validation AUC score:  0.8704251205117808\n"
     ]
    }
   ],
   "source": [
    "final_model, cnf_matrix = {}, {}\n",
    "for idx, model in enumerate(models):\n",
    "    print(45*'_', '\\n{}'.format(model_keys[idx][1]))\n",
    "    model, cnf = model_evaluate(model, X, y, model_grid_params[model_keys[idx][0]])\n",
    "    final_model[model_keys[idx][0]] = model\n",
    "    cnf_matrix[model_keys[idx][0]] = cnf "
   ]
  },
  {
   "cell_type": "markdown",
   "metadata": {},
   "source": [
    "#### Overall, the LDA model provided the better result (87% AUC and 71% fl_score) . \n",
    "\n",
    "##### The Decision Tree model is also as good as the LDA.  Although, the RF classifier has a comparable  AUC score the f1_score is very low. Hence, we will take the LDA or the Decision Tree model as our final model"
   ]
  },
  {
   "cell_type": "markdown",
   "metadata": {},
   "source": [
    "### Lets have a closer look at the predictions of the LDA model"
   ]
  },
  {
   "cell_type": "code",
   "execution_count": 24,
   "metadata": {},
   "outputs": [],
   "source": [
    "def plot_confusion_matrix(cm,\n",
    "                          target_names,\n",
    "                          title='Confusion matrix',\n",
    "                          cmap=None,\n",
    "                          normalize=True):\n",
    "    \"\"\"\n",
    "    given a sklearn confusion matrix (cm), make a nice plot\n",
    "\n",
    "    Arguments\n",
    "    ---------\n",
    "    cm:           confusion matrix from sklearn.metrics.confusion_matrix\n",
    "\n",
    "    target_names: given classification classes such as [0, 1, 2]\n",
    "                  the class names, for example: ['high', 'medium', 'low']\n",
    "\n",
    "    title:        the text to display at the top of the matrix\n",
    "\n",
    "    cmap:         the gradient of the values displayed from matplotlib.pyplot.cm\n",
    "                  see http://matplotlib.org/examples/color/colormaps_reference.html\n",
    "                  plt.get_cmap('jet') or plt.cm.Blues\n",
    "\n",
    "    normalize:    If False, plot the raw numbers\n",
    "                  If True, plot the proportions\n",
    "\n",
    "    Citiation\n",
    "    ---------\n",
    "    http://scikit-learn.org/stable/auto_examples/model_selection/plot_confusion_matrix.html\n",
    "\n",
    "    \"\"\"\n",
    "\n",
    "    if cmap is None:\n",
    "        cmap = plt.get_cmap('Blues')\n",
    "\n",
    "    plt.figure(figsize=(8, 6))\n",
    "    plt.imshow(cm, interpolation='nearest', cmap=cmap)\n",
    "    plt.title(title)\n",
    "    plt.colorbar()\n",
    "\n",
    "    if target_names is not None:\n",
    "        tick_marks = np.arange(len(target_names))\n",
    "        plt.xticks(tick_marks, target_names, rotation=45)\n",
    "        plt.yticks(tick_marks, target_names)\n",
    "\n",
    "    if normalize:\n",
    "        cm = cm.astype('float') / cm.sum(axis=1)[:, np.newaxis]\n",
    "\n",
    "\n",
    "    thresh = cm.max() / 1.5 if normalize else cm.max() / 2\n",
    "    for i, j in itertools.product(range(cm.shape[0]), range(cm.shape[1])):\n",
    "        if normalize:\n",
    "            plt.text(j, i, \"{:0.4f}\".format(cm[i, j]),\n",
    "                     horizontalalignment=\"center\",\n",
    "                     color=\"white\" if cm[i, j] > thresh else \"black\")\n",
    "        else:\n",
    "            plt.text(j, i, \"{:,}\".format(cm[i, j]),\n",
    "                     horizontalalignment=\"center\",\n",
    "                     color=\"white\" if cm[i, j] > thresh else \"black\")\n",
    "\n",
    "\n",
    "    plt.tight_layout()\n",
    "    plt.ylabel('True label')\n",
    "    plt.show()"
   ]
  },
  {
   "cell_type": "code",
   "execution_count": 25,
   "metadata": {},
   "outputs": [
    {
     "data": {
      "image/png": "[encoded data removed]",
      "text/plain": [
       "<Figure size 576x432 with 2 Axes>"
      ]
     },
     "metadata": {
      "needs_background": "light"
     },
     "output_type": "display_data"
    }
   ],
   "source": [
    "# Plot the confusion matrix of the LDA model\n",
    "plot_confusion_matrix(cnf_matrix['lda_model'], target_names=['legitimate', 'fraud'], normalize=False)"
   ]
  },
  {
   "cell_type": "markdown",
   "metadata": {
    "collapsed": true
   },
   "source": [
    " - 135 legitimate transactions were correctly classified\n",
    " - 16 legitimate transactions classified as fraudulant, i.e., false positives (type 1 error)\n",
    " - 36 fraudulant transactions transactions were correctly identified \n",
    " - 13 fraudulant transactions were classified as legitimate (type 2 error)"
   ]
  },
  {
   "cell_type": "code",
   "execution_count": 26,
   "metadata": {},
   "outputs": [
    {
     "data": {
      "image/png": "[encoded data removed]",
      "text/plain": [
       "<Figure size 576x432 with 2 Axes>"
      ]
     },
     "metadata": {
      "needs_background": "light"
     },
     "output_type": "display_data"
    }
   ],
   "source": [
    "# Plot the confusion matrix of the DT model\n",
    "plot_confusion_matrix(cnf_matrix['dt_model'], target_names=['legitimate', 'fraud'], normalize=False)"
   ]
  },
  {
   "cell_type": "markdown",
   "metadata": {},
   "source": [
    "### The ROC curve "
   ]
  },
  {
   "cell_type": "code",
   "execution_count": 27,
   "metadata": {
    "scrolled": false
   },
   "outputs": [
    {
     "data": {
      "image/png": "[encoded data removed]",
      "text/plain": [
       "<Figure size 432x288 with 1 Axes>"
      ]
     },
     "metadata": {
      "needs_background": "light"
     },
     "output_type": "display_data"
    },
    {
     "data": {
      "image/png": "[encoded data removed]",
      "text/plain": [
       "<Figure size 432x288 with 1 Axes>"
      ]
     },
     "metadata": {
      "needs_background": "light"
     },
     "output_type": "display_data"
    }
   ],
   "source": [
    "# ROC curve LDA \n",
    "model, cnf = model_evaluate(lda_model, X, y, model_grid_params['lda_model'], plot_eval_curves=True)"
   ]
  },
  {
   "cell_type": "code",
   "execution_count": 28,
   "metadata": {
    "scrolled": false
   },
   "outputs": [
    {
     "data": {
      "image/png": "[encoded data removed]",
      "text/plain": [
       "<Figure size 432x288 with 1 Axes>"
      ]
     },
     "metadata": {
      "needs_background": "light"
     },
     "output_type": "display_data"
    },
    {
     "data": {
      "image/png": "[encoded data removed]",
      "text/plain": [
       "<Figure size 432x288 with 1 Axes>"
      ]
     },
     "metadata": {
      "needs_background": "light"
     },
     "output_type": "display_data"
    }
   ],
   "source": [
    "# ROC and Precision vs. Recall curves of the LDA model \n",
    "model, cnf = model_evaluate(lda_model, X, y, model_grid_params['lda_model'], plot_eval_curves=True)"
   ]
  },
  {
   "cell_type": "markdown",
   "metadata": {
    "collapsed": true
   },
   "source": [
    "#### The precision vs. recall curve shows the trade off between missing a fraudulent transaction and falsely flagging a legitimate transaction as a fraudulent. Depending on the business requirment, possibly discussing with the business stakeholders, we have to choose an optimal point."
   ]
  },
  {
   "cell_type": "markdown",
   "metadata": {
    "collapsed": true
   },
   "source": [
    "#### Since, Understanding why the ML algorithm made the decision is very important, next I will work on model explainability.  "
   ]
  },
  {
   "cell_type": "code",
   "execution_count": null,
   "metadata": {
    "collapsed": true
   },
   "outputs": [],
   "source": []
  }
 ],
 "metadata": {
  "kernelspec": {
   "display_name": "Python 3",
   "language": "python",
   "name": "python3"
  },
  "language_info": {
   "codemirror_mode": {
    "name": "ipython",
    "version": 3
   },
   "file_extension": ".py",
   "mimetype": "text/x-python",
   "name": "python",
   "nbconvert_exporter": "python",
   "pygments_lexer": "ipython3",
   "version": "3.7.6"
  }
 },
 "nbformat": 4,
 "nbformat_minor": 2
}
